{
 "cells": [
  {
   "cell_type": "markdown",
   "metadata": {},
   "source": [
    "# Functions to Check Assumptions of LR Model"
   ]
  },
  {
   "cell_type": "markdown",
   "metadata": {},
   "source": [
    "This file contains functions that will help to check the assumptions of the Linear Regression Model: linearity, normality, homoscadasticity and independance."
   ]
  },
  {
   "cell_type": "code",
   "execution_count": 1,
   "metadata": {},
   "outputs": [],
   "source": [
    "import pandas as pd\n",
    "import numpy as np\n",
    "import matplotlib.pyplot as plt\n",
    "\n",
    "\n",
    "import statsmodels.api as sm\n",
    "from statsmodels.formula.api import ols\n",
    "from statsmodels.stats.diagnostic import linear_rainbow, het_breuschpagan\n",
    "from statsmodels.stats.outliers_influence import variance_inflation_factor\n",
    "\n",
    "from sklearn import preprocessing\n",
    "from sklearn.preprocessing import OneHotEncoder\n",
    "from sklearn.preprocessing import FunctionTransformer\n",
    "import scipy.stats as stats"
   ]
  },
  {
   "cell_type": "markdown",
   "metadata": {},
   "source": []
  },
  {
   "cell_type": "code",
   "execution_count": 2,
   "metadata": {},
   "outputs": [],
   "source": [
    "def linear (regres_model):\n",
    "    rainbow_statistic, rainbow_p_value = linear_rainbow(regres_model)\n",
    "    print(\"Rainbow statistic:\", rainbow_statistic)\n",
    "    print(\"Rainbow p-value:\", rainbow_p_value)\n",
    "    \n",
    "    return"
   ]
  },
  {
   "cell_type": "code",
   "execution_count": 3,
   "metadata": {},
   "outputs": [],
   "source": [
    "def normal (regres_model):  \n",
    "    fig = sm.graphics.qqplot(regres_model.resid, xlabel = 'Theoretical Quantiles',\n",
    "                             ylabel= 'Sample Quantiles', dist=stats.norm, line='45', fit=True)\n",
    "    \n",
    "    return"
   ]
  },
  {
   "cell_type": "markdown",
   "metadata": {},
   "source": []
  },
  {
   "cell_type": "code",
   "execution_count": 4,
   "metadata": {},
   "outputs": [],
   "source": [
    "def homoscad (regres_model, regres):\n",
    "    \n",
    "    y = regres[\"SalePrice\"]\n",
    "    y_hat = regres_model.predict()\n",
    "    \n",
    "    fig5, ax5 = plt.subplots(figsize=(7,7))\n",
    "    ax5.set(xlabel=\"Predicted Sale Price\",\n",
    "        ylabel=\"Residuals (Predicted - Actual Sale Price)\")\n",
    "    ax5.scatter(x=y_hat, y=y_hat-y, alpha=0.2);\n",
    "    \n",
    "    return"
   ]
  },
  {
   "cell_type": "code",
   "execution_count": 5,
   "metadata": {},
   "outputs": [],
   "source": [
    "def bpag_test(regres_model, df, target):\n",
    "    \n",
    "    cols = df.columns[1:]\n",
    "    y = df[target]\n",
    "    y_hat = regres_model.predict()\n",
    "    lm, lm_p_value, fvalue, f_p_value = het_breuschpagan(y-y_hat, df[cols])\n",
    "    print('Lagrange Multiplier p-value:', lm_p_value)\n",
    "    print('F-statistic p-value:', f_p_value)\n",
    "    \n",
    "    return\n",
    "    "
   ]
  },
  {
   "cell_type": "code",
   "execution_count": 6,
   "metadata": {},
   "outputs": [],
   "source": [
    "def inverse_log(regres_model, predictor, percent):\n",
    "    \n",
    "    for pr in predictor:\n",
    "        print(round(regres_model.params[pr]*np.log(1+percent),2))\n",
    "    return"
   ]
  },
  {
   "cell_type": "code",
   "execution_count": 7,
   "metadata": {},
   "outputs": [],
   "source": [
    "def indep(df):\n",
    "    \n",
    "    cols = df.columns[1:]\n",
    "    rows = df[cols].values\n",
    "    indep_df = pd.DataFrame()\n",
    "    indep_df[\"VIF\"] = [variance_inflation_factor(rows, i) for i in range(len(cols))]\n",
    "    indep_df[\"feature\"] = cols\n",
    "    return indep_df"
   ]
  },
  {
   "cell_type": "code",
   "execution_count": 8,
   "metadata": {},
   "outputs": [],
   "source": [
    "def mapper_heat(df, column, number, lookup):\n",
    "    df_temp = lookup[lookup['LUType'] == number]\n",
    "    dict1 = dict(df_temp[['LUItem', 'LUDescription']].values)\n",
    "    df.HeatSystem.map(dict1)\n",
    "    df.reset_index(inplace=True, drop=True)\n",
    "    df['temp'] = df.HeatSystem.map(dict1)\n",
    "    df[column] = df.temp\n",
    "    df.drop('temp', axis=1, inplace=True)\n",
    "    \n",
    "    return\n",
    "                    "
   ]
  },
  {
   "cell_type": "code",
   "execution_count": null,
   "metadata": {},
   "outputs": [],
   "source": []
  }
 ],
 "metadata": {
  "kernelspec": {
   "display_name": "Python 3",
   "language": "python",
   "name": "python3"
  },
  "language_info": {
   "codemirror_mode": {
    "name": "ipython",
    "version": 3
   },
   "file_extension": ".py",
   "mimetype": "text/x-python",
   "name": "python",
   "nbconvert_exporter": "python",
   "pygments_lexer": "ipython3",
   "version": "3.8.3"
  }
 },
 "nbformat": 4,
 "nbformat_minor": 4
}
