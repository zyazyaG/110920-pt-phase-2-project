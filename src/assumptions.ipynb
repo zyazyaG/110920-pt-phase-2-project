{
 "cells": [
  {
   "cell_type": "markdown",
   "metadata": {},
   "source": [
    "# Functions to Check Assumptions of LR Model"
   ]
  },
  {
   "cell_type": "markdown",
   "metadata": {},
   "source": [
    "This file contains functions that will help to check the assumptions of the Linear Regression Model: linearity, normality, homoscadasticity and independance."
   ]
  },
  {
   "cell_type": "code",
   "execution_count": 3,
   "metadata": {},
   "outputs": [],
   "source": [
    "import pandas as pd\n",
    "import numpy as np\n",
    "import matplotlib.pyplot as plt\n",
    "\n",
    "\n",
    "import statsmodels.api as sm\n",
    "from statsmodels.formula.api import ols\n",
    "from statsmodels.stats.diagnostic import linear_rainbow, het_breuschpagan\n",
    "from statsmodels.stats.outliers_influence import variance_inflation_factor\n",
    "\n",
    "from sklearn.preprocessing import LabelEncoder\n",
    "import scipy.stats as stats"
   ]
  },
  {
   "cell_type": "markdown",
   "metadata": {},
   "source": []
  },
  {
   "cell_type": "code",
   "execution_count": 4,
   "metadata": {},
   "outputs": [],
   "source": [
    "def assumptions (regres_model, regres):\n",
    "    rainbow_statistic, rainbow_p_value = linear_rainbow(regres_model)\n",
    "    print(\"LINEARITY CHECK\\n\")\n",
    "    print(\"Rainbow statistic:\", rainbow_statistic)\n",
    "    print(\"Rainbow p-value:\", rainbow_p_value)\n",
    "    \n",
    "    print(\"\\nNORMALITY CHECK\")\n",
    "    fig = sm.graphics.qqplot(regres_model.resid, dist=stats.norm, line='45', fit=True)\n",
    "    \n",
    "    print(\"\\nHOMOSCADASTICITY CHECK\")\n",
    "    \n",
    "    y = regres[\"SalePrice\"]\n",
    "    y_hat = regres_model.predict()\n",
    "    \n",
    "    fig5, ax5 = plt.subplots(figsize=(10,10))\n",
    "    ax5.set(xlabel=\"Predicted Sale Price\",\n",
    "        ylabel=\"Residuals (Predicted - Actual Sale Price)\")\n",
    "    ax5.scatter(x=y_hat, y=y_hat-y, color=\"blue\", alpha=0.2);\n",
    "\n",
    "    \n",
    "    return"
   ]
  },
  {
   "cell_type": "markdown",
   "metadata": {},
   "source": []
  },
  {
   "cell_type": "code",
   "execution_count": null,
   "metadata": {},
   "outputs": [],
   "source": []
  }
 ],
 "metadata": {
  "kernelspec": {
   "display_name": "Python 3",
   "language": "python",
   "name": "python3"
  },
  "language_info": {
   "codemirror_mode": {
    "name": "ipython",
    "version": 3
   },
   "file_extension": ".py",
   "mimetype": "text/x-python",
   "name": "python",
   "nbconvert_exporter": "python",
   "pygments_lexer": "ipython3",
   "version": "3.8.3"
  }
 },
 "nbformat": 4,
 "nbformat_minor": 4
}
